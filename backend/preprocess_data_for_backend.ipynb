{
 "cells": [
  {
   "cell_type": "markdown",
   "source": [
    "# Preprocess"
   ],
   "metadata": {
    "collapsed": false
   },
   "id": "9e197a34b3abdd58"
  },
  {
   "cell_type": "code",
   "execution_count": 2,
   "id": "initial_id",
   "metadata": {
    "collapsed": true,
    "ExecuteTime": {
     "end_time": "2024-04-10T20:16:34.301594Z",
     "start_time": "2024-04-10T20:16:33.530255Z"
    }
   },
   "outputs": [],
   "source": [
    "import pandas as pd"
   ]
  },
  {
   "cell_type": "code",
   "outputs": [],
   "source": [
    "df = pd.read_csv(\"embeddings.csv\")"
   ],
   "metadata": {
    "collapsed": false,
    "ExecuteTime": {
     "end_time": "2024-04-10T16:51:22.988150Z",
     "start_time": "2024-04-10T16:51:16.098398Z"
    }
   },
   "id": "18dc42e940e08e56",
   "execution_count": 2
  },
  {
   "cell_type": "code",
   "outputs": [
    {
     "data": {
      "text/plain": "   Unnamed: 0.1  Unnamed: 0                name  \\\n0             0           0  Дом В. И. Смирнова   \n1             1           1  Дом В. И. Смирнова   \n2             2           2  Дом В. И. Смирнова   \n3             3           3  Дом В. И. Смирнова   \n4             4           4  Дом В. И. Смирнова   \n\n                                               image         XID  \\\n0  /9j/4AAQSkZJRgABAQAAAQABAAD/2wBDAAUEBAUEAwUFBA...  W148138980   \n1  /9j/4AAQSkZJRgABAQAAAQABAAD/2wBDAAUEBAUEAwUFBA...  W148138980   \n2  /9j/4AAQSkZJRgABAQAAAQABAAD/2wBDAAUEBAUEAwUFBA...  W148138980   \n3  /9j/4AAQSkZJRgABAQAAAQABAAD/2wBDAAUEBAUEAwUFBA...  W148138980   \n4  /9j/4AAQSkZJRgABAQAAAQABAAD/2wBDAAUEBAUEAwUFBA...  W148138980   \n\n                 Name                                               Kind  \\\n0  Дом В. И. Смирнова  architecture,historic_architecture,interesting...   \n1  Дом В. И. Смирнова  architecture,historic_architecture,interesting...   \n2  Дом В. И. Смирнова  architecture,historic_architecture,interesting...   \n3  Дом В. И. Смирнова  architecture,historic_architecture,interesting...   \n4  Дом В. И. Смирнова  architecture,historic_architecture,interesting...   \n\n              City            OSM   WikiData Rate        Lon        Lat  \\\n0  Нижний Новгород  way/148138980  Q97660371   3h  43.975361  56.314426   \n1  Нижний Новгород  way/148138980  Q97660371   3h  43.975361  56.314426   \n2  Нижний Новгород  way/148138980  Q97660371   3h  43.975361  56.314426   \n3  Нижний Новгород  way/148138980  Q97660371   3h  43.975361  56.314426   \n4  Нижний Новгород  way/148138980  Q97660371   3h  43.975361  56.314426   \n\n                                          embeddings  \n0  [-0.2345062494277954, -0.0605655238032341, -0....  \n1  [-0.26463744044303894, -0.17199602723121643, -...  \n2  [-0.26404643058776855, 0.1756322681903839, -0....  \n3  [-0.09119301289319992, 0.06997376680374146, -0...  \n4  [0.04440462589263916, 0.18395093083381653, -0....  ",
      "text/html": "<div>\n<style scoped>\n    .dataframe tbody tr th:only-of-type {\n        vertical-align: middle;\n    }\n\n    .dataframe tbody tr th {\n        vertical-align: top;\n    }\n\n    .dataframe thead th {\n        text-align: right;\n    }\n</style>\n<table border=\"1\" class=\"dataframe\">\n  <thead>\n    <tr style=\"text-align: right;\">\n      <th></th>\n      <th>Unnamed: 0.1</th>\n      <th>Unnamed: 0</th>\n      <th>name</th>\n      <th>image</th>\n      <th>XID</th>\n      <th>Name</th>\n      <th>Kind</th>\n      <th>City</th>\n      <th>OSM</th>\n      <th>WikiData</th>\n      <th>Rate</th>\n      <th>Lon</th>\n      <th>Lat</th>\n      <th>embeddings</th>\n    </tr>\n  </thead>\n  <tbody>\n    <tr>\n      <th>0</th>\n      <td>0</td>\n      <td>0</td>\n      <td>Дом В. И. Смирнова</td>\n      <td>/9j/4AAQSkZJRgABAQAAAQABAAD/2wBDAAUEBAUEAwUFBA...</td>\n      <td>W148138980</td>\n      <td>Дом В. И. Смирнова</td>\n      <td>architecture,historic_architecture,interesting...</td>\n      <td>Нижний Новгород</td>\n      <td>way/148138980</td>\n      <td>Q97660371</td>\n      <td>3h</td>\n      <td>43.975361</td>\n      <td>56.314426</td>\n      <td>[-0.2345062494277954, -0.0605655238032341, -0....</td>\n    </tr>\n    <tr>\n      <th>1</th>\n      <td>1</td>\n      <td>1</td>\n      <td>Дом В. И. Смирнова</td>\n      <td>/9j/4AAQSkZJRgABAQAAAQABAAD/2wBDAAUEBAUEAwUFBA...</td>\n      <td>W148138980</td>\n      <td>Дом В. И. Смирнова</td>\n      <td>architecture,historic_architecture,interesting...</td>\n      <td>Нижний Новгород</td>\n      <td>way/148138980</td>\n      <td>Q97660371</td>\n      <td>3h</td>\n      <td>43.975361</td>\n      <td>56.314426</td>\n      <td>[-0.26463744044303894, -0.17199602723121643, -...</td>\n    </tr>\n    <tr>\n      <th>2</th>\n      <td>2</td>\n      <td>2</td>\n      <td>Дом В. И. Смирнова</td>\n      <td>/9j/4AAQSkZJRgABAQAAAQABAAD/2wBDAAUEBAUEAwUFBA...</td>\n      <td>W148138980</td>\n      <td>Дом В. И. Смирнова</td>\n      <td>architecture,historic_architecture,interesting...</td>\n      <td>Нижний Новгород</td>\n      <td>way/148138980</td>\n      <td>Q97660371</td>\n      <td>3h</td>\n      <td>43.975361</td>\n      <td>56.314426</td>\n      <td>[-0.26404643058776855, 0.1756322681903839, -0....</td>\n    </tr>\n    <tr>\n      <th>3</th>\n      <td>3</td>\n      <td>3</td>\n      <td>Дом В. И. Смирнова</td>\n      <td>/9j/4AAQSkZJRgABAQAAAQABAAD/2wBDAAUEBAUEAwUFBA...</td>\n      <td>W148138980</td>\n      <td>Дом В. И. Смирнова</td>\n      <td>architecture,historic_architecture,interesting...</td>\n      <td>Нижний Новгород</td>\n      <td>way/148138980</td>\n      <td>Q97660371</td>\n      <td>3h</td>\n      <td>43.975361</td>\n      <td>56.314426</td>\n      <td>[-0.09119301289319992, 0.06997376680374146, -0...</td>\n    </tr>\n    <tr>\n      <th>4</th>\n      <td>4</td>\n      <td>4</td>\n      <td>Дом В. И. Смирнова</td>\n      <td>/9j/4AAQSkZJRgABAQAAAQABAAD/2wBDAAUEBAUEAwUFBA...</td>\n      <td>W148138980</td>\n      <td>Дом В. И. Смирнова</td>\n      <td>architecture,historic_architecture,interesting...</td>\n      <td>Нижний Новгород</td>\n      <td>way/148138980</td>\n      <td>Q97660371</td>\n      <td>3h</td>\n      <td>43.975361</td>\n      <td>56.314426</td>\n      <td>[0.04440462589263916, 0.18395093083381653, -0....</td>\n    </tr>\n  </tbody>\n</table>\n</div>"
     },
     "execution_count": 3,
     "metadata": {},
     "output_type": "execute_result"
    }
   ],
   "source": [
    "df.head()"
   ],
   "metadata": {
    "collapsed": false,
    "ExecuteTime": {
     "end_time": "2024-04-10T16:51:40.731416Z",
     "start_time": "2024-04-10T16:51:40.715072Z"
    }
   },
   "id": "8943cc93d0915550",
   "execution_count": 3
  },
  {
   "cell_type": "code",
   "outputs": [
    {
     "data": {
      "text/plain": "(15251, 14)"
     },
     "execution_count": 6,
     "metadata": {},
     "output_type": "execute_result"
    }
   ],
   "source": [
    "df.shape"
   ],
   "metadata": {
    "collapsed": false,
    "ExecuteTime": {
     "end_time": "2024-04-10T16:56:05.387132Z",
     "start_time": "2024-04-10T16:56:05.383980Z"
    }
   },
   "id": "5c2cd54441fc1866",
   "execution_count": 6
  },
  {
   "cell_type": "code",
   "outputs": [],
   "source": [
    "grouped_df = (\n",
    "    df.groupby(\"XID\")\n",
    "    .agg(\n",
    "        {\n",
    "            \"Name\": \"first\",\n",
    "            \"City\": \"first\",\n",
    "            \"Lon\": \"first\",\n",
    "            \"Lat\": \"first\",\n",
    "            \"embeddings\": \"first\",\n",
    "            \"image\": list,\n",
    "        }\n",
    "    )\n",
    "    .reset_index()\n",
    ")"
   ],
   "metadata": {
    "collapsed": false,
    "ExecuteTime": {
     "end_time": "2024-04-10T17:27:27.661483Z",
     "start_time": "2024-04-10T17:27:27.645034Z"
    }
   },
   "id": "9fe2eddf4c159f24",
   "execution_count": 8
  },
  {
   "cell_type": "code",
   "outputs": [
    {
     "data": {
      "text/plain": "           XID                                              Name  \\\n0  N1012304895                                      Вечный огонь   \n1  N1050096042                                       М.В. Фрунзе   \n2  N1056966401  Памятник жертвам и мученикам революции 1905 года   \n3  N1234995463                      Ярославский музей-заповедник   \n4  N1361341279            Кирило-Афанасиевский мужской монастырь   \n\n              City        Lon        Lat  \\\n0         Владимир  40.364002  56.120033   \n1        Ярославль  39.874001  57.599037   \n2  Нижний Новгород  44.016010  56.316841   \n3        Ярославль  39.890030  57.620876   \n4        Ярославль  39.895275  57.625294   \n\n                                          embeddings  \\\n0  [-0.5436314344406128, -0.07166235148906708, -0...   \n1  [-0.6420756578445435, 0.5540616512298584, -0.0...   \n2  [-0.17992371320724487, 0.08507556468248367, -0...   \n3  [-0.009427819401025772, 0.11430048942565918, -...   \n4  [0.03503097966313362, -0.18154576420783997, -0...   \n\n                                               image  \n0  [/9j/4AAQSkZJRgABAQAAAQABAAD/2wBDAAUEBAUEAwUFB...  \n1  [/9j/4AAQSkZJRgABAQAAAQABAAD/2wBDAAUEBAUEAwUFB...  \n2  [/9j/4AAQSkZJRgABAQAAAQABAAD/2wBDAAUEBAUEAwUFB...  \n3  [/9j/4AAQSkZJRgABAQAAAQABAAD/2wBDAAUEBAUEAwUFB...  \n4  [/9j/4AAQSkZJRgABAQAAAQABAAD/2wBDAAUEBAUEAwUFB...  ",
      "text/html": "<div>\n<style scoped>\n    .dataframe tbody tr th:only-of-type {\n        vertical-align: middle;\n    }\n\n    .dataframe tbody tr th {\n        vertical-align: top;\n    }\n\n    .dataframe thead th {\n        text-align: right;\n    }\n</style>\n<table border=\"1\" class=\"dataframe\">\n  <thead>\n    <tr style=\"text-align: right;\">\n      <th></th>\n      <th>XID</th>\n      <th>Name</th>\n      <th>City</th>\n      <th>Lon</th>\n      <th>Lat</th>\n      <th>embeddings</th>\n      <th>image</th>\n    </tr>\n  </thead>\n  <tbody>\n    <tr>\n      <th>0</th>\n      <td>N1012304895</td>\n      <td>Вечный огонь</td>\n      <td>Владимир</td>\n      <td>40.364002</td>\n      <td>56.120033</td>\n      <td>[-0.5436314344406128, -0.07166235148906708, -0...</td>\n      <td>[/9j/4AAQSkZJRgABAQAAAQABAAD/2wBDAAUEBAUEAwUFB...</td>\n    </tr>\n    <tr>\n      <th>1</th>\n      <td>N1050096042</td>\n      <td>М.В. Фрунзе</td>\n      <td>Ярославль</td>\n      <td>39.874001</td>\n      <td>57.599037</td>\n      <td>[-0.6420756578445435, 0.5540616512298584, -0.0...</td>\n      <td>[/9j/4AAQSkZJRgABAQAAAQABAAD/2wBDAAUEBAUEAwUFB...</td>\n    </tr>\n    <tr>\n      <th>2</th>\n      <td>N1056966401</td>\n      <td>Памятник жертвам и мученикам революции 1905 года</td>\n      <td>Нижний Новгород</td>\n      <td>44.016010</td>\n      <td>56.316841</td>\n      <td>[-0.17992371320724487, 0.08507556468248367, -0...</td>\n      <td>[/9j/4AAQSkZJRgABAQAAAQABAAD/2wBDAAUEBAUEAwUFB...</td>\n    </tr>\n    <tr>\n      <th>3</th>\n      <td>N1234995463</td>\n      <td>Ярославский музей-заповедник</td>\n      <td>Ярославль</td>\n      <td>39.890030</td>\n      <td>57.620876</td>\n      <td>[-0.009427819401025772, 0.11430048942565918, -...</td>\n      <td>[/9j/4AAQSkZJRgABAQAAAQABAAD/2wBDAAUEBAUEAwUFB...</td>\n    </tr>\n    <tr>\n      <th>4</th>\n      <td>N1361341279</td>\n      <td>Кирило-Афанасиевский мужской монастырь</td>\n      <td>Ярославль</td>\n      <td>39.895275</td>\n      <td>57.625294</td>\n      <td>[0.03503097966313362, -0.18154576420783997, -0...</td>\n      <td>[/9j/4AAQSkZJRgABAQAAAQABAAD/2wBDAAUEBAUEAwUFB...</td>\n    </tr>\n  </tbody>\n</table>\n</div>"
     },
     "execution_count": 9,
     "metadata": {},
     "output_type": "execute_result"
    }
   ],
   "source": [
    "grouped_df.head()"
   ],
   "metadata": {
    "collapsed": false,
    "ExecuteTime": {
     "end_time": "2024-04-10T17:27:28.430290Z",
     "start_time": "2024-04-10T17:27:28.399678Z"
    }
   },
   "id": "283278fce936fa4b",
   "execution_count": 9
  },
  {
   "cell_type": "code",
   "outputs": [
    {
     "data": {
      "text/plain": "(399, 8)"
     },
     "execution_count": 7,
     "metadata": {},
     "output_type": "execute_result"
    }
   ],
   "source": [
    "grouped_df.shape"
   ],
   "metadata": {
    "collapsed": false,
    "ExecuteTime": {
     "end_time": "2024-04-10T16:59:19.916204Z",
     "start_time": "2024-04-10T16:59:19.911444Z"
    }
   },
   "id": "b550ce021e6daeee",
   "execution_count": 7
  },
  {
   "cell_type": "code",
   "outputs": [],
   "source": [
    "import json\n",
    "from pathlib import Path\n",
    "\n",
    "xid_to_cat = json.loads(Path(\"cats.json\").read_text())\n",
    "en_to_ru = {\n",
    "    \"religion\": \"Религиозный объект\", \n",
    "    \"other\": \"Другое\", \n",
    "    \"memorial\": \"Памятник событию\",\n",
    "    \"statue\": \"Памятник личности\",\n",
    "    \"experience\": \"Экспириенс\",\n",
    "}"
   ],
   "metadata": {
    "collapsed": false,
    "ExecuteTime": {
     "end_time": "2024-04-10T17:31:40.189604Z",
     "start_time": "2024-04-10T17:31:40.183954Z"
    }
   },
   "id": "bdcc43e33a23ac19",
   "execution_count": 14
  },
  {
   "cell_type": "code",
   "outputs": [],
   "source": [
    "city_to_id = {\n",
    "    \"Нижний Новгород\": 1, \n",
    "    \"Ярославль\": 2, \n",
    "    \"Владимир\": 3, \n",
    "    \"Екатеринбург\": 4\n",
    "}"
   ],
   "metadata": {
    "collapsed": false,
    "ExecuteTime": {
     "end_time": "2024-04-10T17:28:44.250100Z",
     "start_time": "2024-04-10T17:28:44.246427Z"
    }
   },
   "id": "1e8c99b6b16522f4",
   "execution_count": 11
  },
  {
   "cell_type": "code",
   "outputs": [
    {
     "data": {
      "text/plain": "           XID                                              Name        Lon  \\\n0  N1012304895                                      Вечный огонь  40.364002   \n1  N1050096042                                       М.В. Фрунзе  39.874001   \n2  N1056966401  Памятник жертвам и мученикам революции 1905 года  44.016010   \n3  N1234995463                      Ярославский музей-заповедник  39.890030   \n4  N1361341279            Кирило-Афанасиевский мужской монастырь  39.895275   \n\n         Lat                                         embeddings  \\\n0  56.120033  [-0.5436314344406128, -0.07166235148906708, -0...   \n1  57.599037  [-0.6420756578445435, 0.5540616512298584, -0.0...   \n2  56.316841  [-0.17992371320724487, 0.08507556468248367, -0...   \n3  57.620876  [-0.009427819401025772, 0.11430048942565918, -...   \n4  57.625294  [0.03503097966313362, -0.18154576420783997, -0...   \n\n                                               image  city_id  \n0  [/9j/4AAQSkZJRgABAQAAAQABAAD/2wBDAAUEBAUEAwUFB...        3  \n1  [/9j/4AAQSkZJRgABAQAAAQABAAD/2wBDAAUEBAUEAwUFB...        2  \n2  [/9j/4AAQSkZJRgABAQAAAQABAAD/2wBDAAUEBAUEAwUFB...        1  \n3  [/9j/4AAQSkZJRgABAQAAAQABAAD/2wBDAAUEBAUEAwUFB...        2  \n4  [/9j/4AAQSkZJRgABAQAAAQABAAD/2wBDAAUEBAUEAwUFB...        2  ",
      "text/html": "<div>\n<style scoped>\n    .dataframe tbody tr th:only-of-type {\n        vertical-align: middle;\n    }\n\n    .dataframe tbody tr th {\n        vertical-align: top;\n    }\n\n    .dataframe thead th {\n        text-align: right;\n    }\n</style>\n<table border=\"1\" class=\"dataframe\">\n  <thead>\n    <tr style=\"text-align: right;\">\n      <th></th>\n      <th>XID</th>\n      <th>Name</th>\n      <th>Lon</th>\n      <th>Lat</th>\n      <th>embeddings</th>\n      <th>image</th>\n      <th>city_id</th>\n    </tr>\n  </thead>\n  <tbody>\n    <tr>\n      <th>0</th>\n      <td>N1012304895</td>\n      <td>Вечный огонь</td>\n      <td>40.364002</td>\n      <td>56.120033</td>\n      <td>[-0.5436314344406128, -0.07166235148906708, -0...</td>\n      <td>[/9j/4AAQSkZJRgABAQAAAQABAAD/2wBDAAUEBAUEAwUFB...</td>\n      <td>3</td>\n    </tr>\n    <tr>\n      <th>1</th>\n      <td>N1050096042</td>\n      <td>М.В. Фрунзе</td>\n      <td>39.874001</td>\n      <td>57.599037</td>\n      <td>[-0.6420756578445435, 0.5540616512298584, -0.0...</td>\n      <td>[/9j/4AAQSkZJRgABAQAAAQABAAD/2wBDAAUEBAUEAwUFB...</td>\n      <td>2</td>\n    </tr>\n    <tr>\n      <th>2</th>\n      <td>N1056966401</td>\n      <td>Памятник жертвам и мученикам революции 1905 года</td>\n      <td>44.016010</td>\n      <td>56.316841</td>\n      <td>[-0.17992371320724487, 0.08507556468248367, -0...</td>\n      <td>[/9j/4AAQSkZJRgABAQAAAQABAAD/2wBDAAUEBAUEAwUFB...</td>\n      <td>1</td>\n    </tr>\n    <tr>\n      <th>3</th>\n      <td>N1234995463</td>\n      <td>Ярославский музей-заповедник</td>\n      <td>39.890030</td>\n      <td>57.620876</td>\n      <td>[-0.009427819401025772, 0.11430048942565918, -...</td>\n      <td>[/9j/4AAQSkZJRgABAQAAAQABAAD/2wBDAAUEBAUEAwUFB...</td>\n      <td>2</td>\n    </tr>\n    <tr>\n      <th>4</th>\n      <td>N1361341279</td>\n      <td>Кирило-Афанасиевский мужской монастырь</td>\n      <td>39.895275</td>\n      <td>57.625294</td>\n      <td>[0.03503097966313362, -0.18154576420783997, -0...</td>\n      <td>[/9j/4AAQSkZJRgABAQAAAQABAAD/2wBDAAUEBAUEAwUFB...</td>\n      <td>2</td>\n    </tr>\n  </tbody>\n</table>\n</div>"
     },
     "execution_count": 13,
     "metadata": {},
     "output_type": "execute_result"
    }
   ],
   "source": [
    "with_city_id = grouped_df.drop(columns=[\"City\"])\n",
    "with_city_id[\"city_id\"] = grouped_df[\"City\"].map(city_to_id.get)\n",
    "with_city_id.head()"
   ],
   "metadata": {
    "collapsed": false,
    "ExecuteTime": {
     "end_time": "2024-04-10T17:28:59.584074Z",
     "start_time": "2024-04-10T17:28:59.542718Z"
    }
   },
   "id": "162d02ced4454664",
   "execution_count": 13
  },
  {
   "cell_type": "code",
   "outputs": [
    {
     "data": {
      "text/plain": "           XID                                              Name        Lon  \\\n0  N1012304895                                      Вечный огонь  40.364002   \n1  N1050096042                                       М.В. Фрунзе  39.874001   \n2  N1056966401  Памятник жертвам и мученикам революции 1905 года  44.016010   \n3  N1234995463                      Ярославский музей-заповедник  39.890030   \n4  N1361341279            Кирило-Афанасиевский мужской монастырь  39.895275   \n\n         Lat                                         embeddings  \\\n0  56.120033  [-0.5436314344406128, -0.07166235148906708, -0...   \n1  57.599037  [-0.6420756578445435, 0.5540616512298584, -0.0...   \n2  56.316841  [-0.17992371320724487, 0.08507556468248367, -0...   \n3  57.620876  [-0.009427819401025772, 0.11430048942565918, -...   \n4  57.625294  [0.03503097966313362, -0.18154576420783997, -0...   \n\n                                               image  city_id  \\\n0  [/9j/4AAQSkZJRgABAQAAAQABAAD/2wBDAAUEBAUEAwUFB...        3   \n1  [/9j/4AAQSkZJRgABAQAAAQABAAD/2wBDAAUEBAUEAwUFB...        2   \n2  [/9j/4AAQSkZJRgABAQAAAQABAAD/2wBDAAUEBAUEAwUFB...        1   \n3  [/9j/4AAQSkZJRgABAQAAAQABAAD/2wBDAAUEBAUEAwUFB...        2   \n4  [/9j/4AAQSkZJRgABAQAAAQABAAD/2wBDAAUEBAUEAwUFB...        2   \n\n             category  \n0    Памятник событию  \n1    Памятник событию  \n2    Памятник событию  \n3          Экспириенс  \n4  Религиозный объект  ",
      "text/html": "<div>\n<style scoped>\n    .dataframe tbody tr th:only-of-type {\n        vertical-align: middle;\n    }\n\n    .dataframe tbody tr th {\n        vertical-align: top;\n    }\n\n    .dataframe thead th {\n        text-align: right;\n    }\n</style>\n<table border=\"1\" class=\"dataframe\">\n  <thead>\n    <tr style=\"text-align: right;\">\n      <th></th>\n      <th>XID</th>\n      <th>Name</th>\n      <th>Lon</th>\n      <th>Lat</th>\n      <th>embeddings</th>\n      <th>image</th>\n      <th>city_id</th>\n      <th>category</th>\n    </tr>\n  </thead>\n  <tbody>\n    <tr>\n      <th>0</th>\n      <td>N1012304895</td>\n      <td>Вечный огонь</td>\n      <td>40.364002</td>\n      <td>56.120033</td>\n      <td>[-0.5436314344406128, -0.07166235148906708, -0...</td>\n      <td>[/9j/4AAQSkZJRgABAQAAAQABAAD/2wBDAAUEBAUEAwUFB...</td>\n      <td>3</td>\n      <td>Памятник событию</td>\n    </tr>\n    <tr>\n      <th>1</th>\n      <td>N1050096042</td>\n      <td>М.В. Фрунзе</td>\n      <td>39.874001</td>\n      <td>57.599037</td>\n      <td>[-0.6420756578445435, 0.5540616512298584, -0.0...</td>\n      <td>[/9j/4AAQSkZJRgABAQAAAQABAAD/2wBDAAUEBAUEAwUFB...</td>\n      <td>2</td>\n      <td>Памятник событию</td>\n    </tr>\n    <tr>\n      <th>2</th>\n      <td>N1056966401</td>\n      <td>Памятник жертвам и мученикам революции 1905 года</td>\n      <td>44.016010</td>\n      <td>56.316841</td>\n      <td>[-0.17992371320724487, 0.08507556468248367, -0...</td>\n      <td>[/9j/4AAQSkZJRgABAQAAAQABAAD/2wBDAAUEBAUEAwUFB...</td>\n      <td>1</td>\n      <td>Памятник событию</td>\n    </tr>\n    <tr>\n      <th>3</th>\n      <td>N1234995463</td>\n      <td>Ярославский музей-заповедник</td>\n      <td>39.890030</td>\n      <td>57.620876</td>\n      <td>[-0.009427819401025772, 0.11430048942565918, -...</td>\n      <td>[/9j/4AAQSkZJRgABAQAAAQABAAD/2wBDAAUEBAUEAwUFB...</td>\n      <td>2</td>\n      <td>Экспириенс</td>\n    </tr>\n    <tr>\n      <th>4</th>\n      <td>N1361341279</td>\n      <td>Кирило-Афанасиевский мужской монастырь</td>\n      <td>39.895275</td>\n      <td>57.625294</td>\n      <td>[0.03503097966313362, -0.18154576420783997, -0...</td>\n      <td>[/9j/4AAQSkZJRgABAQAAAQABAAD/2wBDAAUEBAUEAwUFB...</td>\n      <td>2</td>\n      <td>Религиозный объект</td>\n    </tr>\n  </tbody>\n</table>\n</div>"
     },
     "execution_count": 16,
     "metadata": {},
     "output_type": "execute_result"
    }
   ],
   "source": [
    "with_xid = with_city_id.copy()\n",
    "with_xid[\"category\"] = with_xid[\"XID\"].map(lambda xid: en_to_ru[xid_to_cat[xid].lower()])\n",
    "with_xid.head()"
   ],
   "metadata": {
    "collapsed": false,
    "ExecuteTime": {
     "end_time": "2024-04-10T17:32:04.445324Z",
     "start_time": "2024-04-10T17:32:04.380567Z"
    }
   },
   "id": "45e3039d0aab3497",
   "execution_count": 16
  },
  {
   "cell_type": "code",
   "outputs": [],
   "source": [
    "with_xid.to_csv(\"preprocessed.csv\", index=False)"
   ],
   "metadata": {
    "collapsed": false,
    "ExecuteTime": {
     "end_time": "2024-04-10T17:32:57.802976Z",
     "start_time": "2024-04-10T17:32:49.799288Z"
    }
   },
   "id": "cccd8398c7e027d3",
   "execution_count": 17
  },
  {
   "cell_type": "code",
   "outputs": [],
   "source": [
    "preprocessed = pd.read_csv(\"preprocessed.csv\")"
   ],
   "metadata": {
    "collapsed": false,
    "ExecuteTime": {
     "end_time": "2024-04-10T20:17:08.108463Z",
     "start_time": "2024-04-10T20:17:02.452119Z"
    }
   },
   "id": "108b4fe12bd62c85",
   "execution_count": 3
  }
 ],
 "metadata": {
  "kernelspec": {
   "display_name": "Python 3",
   "language": "python",
   "name": "python3"
  },
  "language_info": {
   "codemirror_mode": {
    "name": "ipython",
    "version": 2
   },
   "file_extension": ".py",
   "mimetype": "text/x-python",
   "name": "python",
   "nbconvert_exporter": "python",
   "pygments_lexer": "ipython2",
   "version": "2.7.6"
  }
 },
 "nbformat": 4,
 "nbformat_minor": 5
}
